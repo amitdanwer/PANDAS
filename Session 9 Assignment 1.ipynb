{
 "cells": [
  {
   "cell_type": "code",
   "execution_count": 5,
   "metadata": {},
   "outputs": [],
   "source": [
    "import os\n",
    "import pandas as pd\n",
    "import numpy as np"
   ]
  },
  {
   "cell_type": "code",
   "execution_count": 2,
   "metadata": {},
   "outputs": [],
   "source": [
    "#How-to-count-distance-to-the-previous-zero\n",
    "import numpy as np\n",
    "import pandas as pd\n"
   ]
  },
  {
   "cell_type": "code",
   "execution_count": 15,
   "metadata": {},
   "outputs": [],
   "source": [
    "df = pd.DataFrame({'X': [7, 2, 0, 3, 4, 2, 5, 0, 3, 4]})\n"
   ]
  },
  {
   "cell_type": "code",
   "execution_count": 68,
   "metadata": {},
   "outputs": [],
   "source": [
    "s = df['X']"
   ]
  },
  {
   "cell_type": "code",
   "execution_count": 69,
   "metadata": {},
   "outputs": [
    {
     "data": {
      "text/plain": [
       "[1, 2, 0, 1, 2, 3, 4, 0, 1, 2]"
      ]
     },
     "execution_count": 69,
     "metadata": {},
     "output_type": "execute_result"
    }
   ],
   "source": [
    "(s.groupby(s.eq(0).cumsum().mask(s.eq(0))).cumcount() + 1).mask(s.eq(0), 0).tolist()"
   ]
  },
  {
   "cell_type": "code",
   "execution_count": 53,
   "metadata": {},
   "outputs": [
    {
     "name": "stdout",
     "output_type": "stream",
     "text": [
      "['2015-01' '2015-01' '2015-01' '2015-01' '2015-01' '2015-01' '2015-01'\n",
      " '2015-01' '2015-01' '2015-01' '2015-01' '2015-01' '2015-01' '2015-01'\n",
      " '2015-01' '2015-01' '2015-01' '2015-01' '2015-01' '2015-01' '2015-01'\n",
      " '2015-01' '2015-01' '2015-01' '2015-01' '2015-01' '2015-01' '2015-01'\n",
      " '2015-01' '2015-01' '2015-01' '2015-02' '2015-02' '2015-02' '2015-02'\n",
      " '2015-02' '2015-02' '2015-02' '2015-02' '2015-02' '2015-02' '2015-02'\n",
      " '2015-02' '2015-02' '2015-02' '2015-02' '2015-02' '2015-02' '2015-02'\n",
      " '2015-02' '2015-02' '2015-02' '2015-02' '2015-02' '2015-02' '2015-02'\n",
      " '2015-02' '2015-02' '2015-02' '2015-03' '2015-03' '2015-03' '2015-03'\n",
      " '2015-03' '2015-03' '2015-03' '2015-03' '2015-03' '2015-03' '2015-03'\n",
      " '2015-03' '2015-03' '2015-03' '2015-03' '2015-03' '2015-03' '2015-03'\n",
      " '2015-03' '2015-03' '2015-03' '2015-03' '2015-03' '2015-03' '2015-03'\n",
      " '2015-03' '2015-03' '2015-03' '2015-03' '2015-03' '2015-03' '2015-04'\n",
      " '2015-04' '2015-04' '2015-04' '2015-04' '2015-04' '2015-04' '2015-04'\n",
      " '2015-04' '2015-04' '2015-04' '2015-04' '2015-04' '2015-04' '2015-04'\n",
      " '2015-04' '2015-04' '2015-04' '2015-04' '2015-04' '2015-04' '2015-04'\n",
      " '2015-04' '2015-04' '2015-04' '2015-04' '2015-04' '2015-04' '2015-04'\n",
      " '2015-04' '2015-05' '2015-05' '2015-05' '2015-05' '2015-05' '2015-05'\n",
      " '2015-05' '2015-05' '2015-05' '2015-05' '2015-05' '2015-05' '2015-05'\n",
      " '2015-05' '2015-05' '2015-05' '2015-05' '2015-05' '2015-05' '2015-05'\n",
      " '2015-05' '2015-05' '2015-05' '2015-05' '2015-05' '2015-05' '2015-05'\n",
      " '2015-05' '2015-05' '2015-05' '2015-05' '2015-06' '2015-06' '2015-06'\n",
      " '2015-06' '2015-06' '2015-06' '2015-06' '2015-06' '2015-06' '2015-06'\n",
      " '2015-06' '2015-06' '2015-06' '2015-06' '2015-06' '2015-06' '2015-06'\n",
      " '2015-06' '2015-06' '2015-06' '2015-06' '2015-06' '2015-06' '2015-06'\n",
      " '2015-06' '2015-06' '2015-06' '2015-06' '2015-06' '2015-06' '2015-07'\n",
      " '2015-07' '2015-07' '2015-07' '2015-07' '2015-07' '2015-07' '2015-07'\n",
      " '2015-07' '2015-07' '2015-07' '2015-07' '2015-07' '2015-07' '2015-07'\n",
      " '2015-07' '2015-07' '2015-07' '2015-07' '2015-07' '2015-07' '2015-07'\n",
      " '2015-07' '2015-07' '2015-07' '2015-07' '2015-07' '2015-07' '2015-07'\n",
      " '2015-07' '2015-07' '2015-08' '2015-08' '2015-08' '2015-08' '2015-08'\n",
      " '2015-08' '2015-08' '2015-08' '2015-08' '2015-08' '2015-08' '2015-08'\n",
      " '2015-08' '2015-08' '2015-08' '2015-08' '2015-08' '2015-08' '2015-08'\n",
      " '2015-08' '2015-08' '2015-08' '2015-08' '2015-08' '2015-08' '2015-08'\n",
      " '2015-08' '2015-08' '2015-08' '2015-08' '2015-08' '2015-09' '2015-09'\n",
      " '2015-09' '2015-09' '2015-09' '2015-09' '2015-09' '2015-09' '2015-09'\n",
      " '2015-09' '2015-09' '2015-09' '2015-09' '2015-09' '2015-09' '2015-09'\n",
      " '2015-09' '2015-09' '2015-09' '2015-09' '2015-09' '2015-09' '2015-09'\n",
      " '2015-09' '2015-09' '2015-09' '2015-09' '2015-09' '2015-09' '2015-09'\n",
      " '2015-10' '2015-10' '2015-10' '2015-10' '2015-10' '2015-10' '2015-10'\n",
      " '2015-10' '2015-10' '2015-10' '2015-10' '2015-10' '2015-10' '2015-10'\n",
      " '2015-10' '2015-10' '2015-10' '2015-10' '2015-10' '2015-10' '2015-10'\n",
      " '2015-10' '2015-10' '2015-10' '2015-10' '2015-10' '2015-10' '2015-10'\n",
      " '2015-10' '2015-10' '2015-10' '2015-11' '2015-11' '2015-11' '2015-11'\n",
      " '2015-11' '2015-11' '2015-11' '2015-11' '2015-11' '2015-11' '2015-11'\n",
      " '2015-11' '2015-11' '2015-11' '2015-11' '2015-11' '2015-11' '2015-11'\n",
      " '2015-11' '2015-11' '2015-11' '2015-11' '2015-11' '2015-11' '2015-11'\n",
      " '2015-11' '2015-11' '2015-11' '2015-11' '2015-11' '2015-12' '2015-12'\n",
      " '2015-12' '2015-12' '2015-12' '2015-12' '2015-12' '2015-12' '2015-12'\n",
      " '2015-12' '2015-12' '2015-12' '2015-12' '2015-12' '2015-12' '2015-12'\n",
      " '2015-12' '2015-12' '2015-12' '2015-12' '2015-12' '2015-12' '2015-12'\n",
      " '2015-12' '2015-12' '2015-12' '2015-12' '2015-12' '2015-12' '2015-12'\n",
      " '2015-12']\n"
     ]
    }
   ],
   "source": [
    "#Create a DatetimeIndex that contains each business day of 2015 and use it to index a Series of random numbers.\n",
    "import pandas as pd\n",
    "import numpy as np\n",
    "import datetime as dt\n",
    "\n",
    "\n",
    "data_arr = np.empty((0))\n",
    "date_val = np.empty((0))\n",
    "date_val_month = np.empty((0))\n",
    "start_date = '2015-01-01'\n",
    "end_date = '2015-12-31'\n",
    "for date in pd.date_range(start_date, end_date):\n",
    "    #print(date)\n",
    "    date_val = np.append(date_val,date.strftime('%Y-%m-%d'))\n",
    "    date_val_month = np.append(date_val_month, date.strftime('%Y-%m'))\n",
    "    data_arr = np.append(data_arr,date.strftime('%A'))\n",
    "    #print(data_arr)\n",
    "    #print(np.append(data_arr,date.strftime('%A')))\n",
    "\n",
    "#data_arr = np.array(data_arr).reshape(365,1)\n",
    "print(date_val_month)"
   ]
  },
  {
   "cell_type": "code",
   "execution_count": 45,
   "metadata": {},
   "outputs": [
    {
     "data": {
      "text/html": [
       "<div>\n",
       "<style scoped>\n",
       "    .dataframe tbody tr th:only-of-type {\n",
       "        vertical-align: middle;\n",
       "    }\n",
       "\n",
       "    .dataframe tbody tr th {\n",
       "        vertical-align: top;\n",
       "    }\n",
       "\n",
       "    .dataframe thead th {\n",
       "        text-align: right;\n",
       "    }\n",
       "</style>\n",
       "<table border=\"1\" class=\"dataframe\">\n",
       "  <thead>\n",
       "    <tr style=\"text-align: right;\">\n",
       "      <th></th>\n",
       "      <th>Rand_num</th>\n",
       "      <th>WorkDay</th>\n",
       "    </tr>\n",
       "    <tr>\n",
       "      <th>Day</th>\n",
       "      <th></th>\n",
       "      <th></th>\n",
       "    </tr>\n",
       "  </thead>\n",
       "  <tbody>\n",
       "    <tr>\n",
       "      <th>Thursday</th>\n",
       "      <td>0.445410</td>\n",
       "      <td>Thursday</td>\n",
       "    </tr>\n",
       "    <tr>\n",
       "      <th>Friday</th>\n",
       "      <td>0.563276</td>\n",
       "      <td>Friday</td>\n",
       "    </tr>\n",
       "    <tr>\n",
       "      <th>Saturday</th>\n",
       "      <td>0.332205</td>\n",
       "      <td>Saturday</td>\n",
       "    </tr>\n",
       "    <tr>\n",
       "      <th>Sunday</th>\n",
       "      <td>0.839659</td>\n",
       "      <td>Sunday</td>\n",
       "    </tr>\n",
       "    <tr>\n",
       "      <th>Monday</th>\n",
       "      <td>0.423074</td>\n",
       "      <td>Monday</td>\n",
       "    </tr>\n",
       "    <tr>\n",
       "      <th>Tuesday</th>\n",
       "      <td>0.774200</td>\n",
       "      <td>Tuesday</td>\n",
       "    </tr>\n",
       "    <tr>\n",
       "      <th>Wednesday</th>\n",
       "      <td>0.788327</td>\n",
       "      <td>Wednesday</td>\n",
       "    </tr>\n",
       "    <tr>\n",
       "      <th>Thursday</th>\n",
       "      <td>0.610184</td>\n",
       "      <td>Thursday</td>\n",
       "    </tr>\n",
       "    <tr>\n",
       "      <th>Friday</th>\n",
       "      <td>0.975361</td>\n",
       "      <td>Friday</td>\n",
       "    </tr>\n",
       "    <tr>\n",
       "      <th>Saturday</th>\n",
       "      <td>0.210745</td>\n",
       "      <td>Saturday</td>\n",
       "    </tr>\n",
       "  </tbody>\n",
       "</table>\n",
       "</div>"
      ],
      "text/plain": [
       "           Rand_num    WorkDay\n",
       "Day                           \n",
       "Thursday   0.445410   Thursday\n",
       "Friday     0.563276     Friday\n",
       "Saturday   0.332205   Saturday\n",
       "Sunday     0.839659     Sunday\n",
       "Monday     0.423074     Monday\n",
       "Tuesday    0.774200    Tuesday\n",
       "Wednesday  0.788327  Wednesday\n",
       "Thursday   0.610184   Thursday\n",
       "Friday     0.975361     Friday\n",
       "Saturday   0.210745   Saturday"
      ]
     },
     "execution_count": 45,
     "metadata": {},
     "output_type": "execute_result"
    }
   ],
   "source": [
    "import numpy as np\n",
    "import pandas as pd\n",
    "\n",
    "rand_num = np.random.rand(365,1)\n",
    "\n",
    "df = pd.DataFrame(data=rand_num,index=data_arr,columns=['Rand_num'])\n",
    "df.index.name = 'Day'\n",
    "\n",
    "df['WorkDay'] = df.index\n",
    "\n",
    "df.head(10)"
   ]
  },
  {
   "cell_type": "code",
   "execution_count": 54,
   "metadata": {},
   "outputs": [],
   "source": [
    "df['Month'] = date_val_month"
   ]
  },
  {
   "cell_type": "code",
   "execution_count": 55,
   "metadata": {},
   "outputs": [
    {
     "data": {
      "text/html": [
       "<div>\n",
       "<style scoped>\n",
       "    .dataframe tbody tr th:only-of-type {\n",
       "        vertical-align: middle;\n",
       "    }\n",
       "\n",
       "    .dataframe tbody tr th {\n",
       "        vertical-align: top;\n",
       "    }\n",
       "\n",
       "    .dataframe thead th {\n",
       "        text-align: right;\n",
       "    }\n",
       "</style>\n",
       "<table border=\"1\" class=\"dataframe\">\n",
       "  <thead>\n",
       "    <tr style=\"text-align: right;\">\n",
       "      <th></th>\n",
       "      <th>Rand_num</th>\n",
       "      <th>WorkDay</th>\n",
       "      <th>Date_val</th>\n",
       "      <th>Month</th>\n",
       "    </tr>\n",
       "    <tr>\n",
       "      <th>Day</th>\n",
       "      <th></th>\n",
       "      <th></th>\n",
       "      <th></th>\n",
       "      <th></th>\n",
       "    </tr>\n",
       "  </thead>\n",
       "  <tbody>\n",
       "    <tr>\n",
       "      <th>Thursday</th>\n",
       "      <td>0.445410</td>\n",
       "      <td>Thursday</td>\n",
       "      <td>2015-01-01</td>\n",
       "      <td>2015-01</td>\n",
       "    </tr>\n",
       "    <tr>\n",
       "      <th>Friday</th>\n",
       "      <td>0.563276</td>\n",
       "      <td>Friday</td>\n",
       "      <td>2015-01-02</td>\n",
       "      <td>2015-01</td>\n",
       "    </tr>\n",
       "    <tr>\n",
       "      <th>Saturday</th>\n",
       "      <td>0.332205</td>\n",
       "      <td>Saturday</td>\n",
       "      <td>2015-01-03</td>\n",
       "      <td>2015-01</td>\n",
       "    </tr>\n",
       "    <tr>\n",
       "      <th>Sunday</th>\n",
       "      <td>0.839659</td>\n",
       "      <td>Sunday</td>\n",
       "      <td>2015-01-04</td>\n",
       "      <td>2015-01</td>\n",
       "    </tr>\n",
       "    <tr>\n",
       "      <th>Monday</th>\n",
       "      <td>0.423074</td>\n",
       "      <td>Monday</td>\n",
       "      <td>2015-01-05</td>\n",
       "      <td>2015-01</td>\n",
       "    </tr>\n",
       "  </tbody>\n",
       "</table>\n",
       "</div>"
      ],
      "text/plain": [
       "          Rand_num   WorkDay    Date_val    Month\n",
       "Day                                              \n",
       "Thursday  0.445410  Thursday  2015-01-01  2015-01\n",
       "Friday    0.563276    Friday  2015-01-02  2015-01\n",
       "Saturday  0.332205  Saturday  2015-01-03  2015-01\n",
       "Sunday    0.839659    Sunday  2015-01-04  2015-01\n",
       "Monday    0.423074    Monday  2015-01-05  2015-01"
      ]
     },
     "execution_count": 55,
     "metadata": {},
     "output_type": "execute_result"
    }
   ],
   "source": [
    "df.head()"
   ]
  },
  {
   "cell_type": "code",
   "execution_count": 46,
   "metadata": {
    "scrolled": true
   },
   "outputs": [
    {
     "data": {
      "text/html": [
       "<div>\n",
       "<style scoped>\n",
       "    .dataframe tbody tr th:only-of-type {\n",
       "        vertical-align: middle;\n",
       "    }\n",
       "\n",
       "    .dataframe tbody tr th {\n",
       "        vertical-align: top;\n",
       "    }\n",
       "\n",
       "    .dataframe thead th {\n",
       "        text-align: right;\n",
       "    }\n",
       "</style>\n",
       "<table border=\"1\" class=\"dataframe\">\n",
       "  <thead>\n",
       "    <tr style=\"text-align: right;\">\n",
       "      <th></th>\n",
       "      <th>Rand_num</th>\n",
       "    </tr>\n",
       "    <tr>\n",
       "      <th>Day</th>\n",
       "      <th></th>\n",
       "    </tr>\n",
       "  </thead>\n",
       "  <tbody>\n",
       "    <tr>\n",
       "      <th>Friday</th>\n",
       "      <td>24.412255</td>\n",
       "    </tr>\n",
       "    <tr>\n",
       "      <th>Monday</th>\n",
       "      <td>29.789072</td>\n",
       "    </tr>\n",
       "    <tr>\n",
       "      <th>Saturday</th>\n",
       "      <td>24.884996</td>\n",
       "    </tr>\n",
       "    <tr>\n",
       "      <th>Sunday</th>\n",
       "      <td>26.217328</td>\n",
       "    </tr>\n",
       "    <tr>\n",
       "      <th>Thursday</th>\n",
       "      <td>30.282485</td>\n",
       "    </tr>\n",
       "    <tr>\n",
       "      <th>Tuesday</th>\n",
       "      <td>25.337085</td>\n",
       "    </tr>\n",
       "    <tr>\n",
       "      <th>Wednesday</th>\n",
       "      <td>28.921689</td>\n",
       "    </tr>\n",
       "  </tbody>\n",
       "</table>\n",
       "</div>"
      ],
      "text/plain": [
       "            Rand_num\n",
       "Day                 \n",
       "Friday     24.412255\n",
       "Monday     29.789072\n",
       "Saturday   24.884996\n",
       "Sunday     26.217328\n",
       "Thursday   30.282485\n",
       "Tuesday    25.337085\n",
       "Wednesday  28.921689"
      ]
     },
     "execution_count": 46,
     "metadata": {},
     "output_type": "execute_result"
    }
   ],
   "source": [
    "# Wednesday aggregation of Random Number\n",
    "df.pivot_table(values='Rand_num',index='Day',aggfunc='sum')"
   ]
  },
  {
   "cell_type": "code",
   "execution_count": 58,
   "metadata": {},
   "outputs": [
    {
     "data": {
      "text/html": [
       "<div>\n",
       "<style scoped>\n",
       "    .dataframe tbody tr th:only-of-type {\n",
       "        vertical-align: middle;\n",
       "    }\n",
       "\n",
       "    .dataframe tbody tr th {\n",
       "        vertical-align: top;\n",
       "    }\n",
       "\n",
       "    .dataframe thead th {\n",
       "        text-align: right;\n",
       "    }\n",
       "</style>\n",
       "<table border=\"1\" class=\"dataframe\">\n",
       "  <thead>\n",
       "    <tr style=\"text-align: right;\">\n",
       "      <th></th>\n",
       "      <th>Rand_num</th>\n",
       "    </tr>\n",
       "    <tr>\n",
       "      <th>Month</th>\n",
       "      <th></th>\n",
       "    </tr>\n",
       "  </thead>\n",
       "  <tbody>\n",
       "    <tr>\n",
       "      <th>2015-01</th>\n",
       "      <td>0.589819</td>\n",
       "    </tr>\n",
       "    <tr>\n",
       "      <th>2015-02</th>\n",
       "      <td>0.596067</td>\n",
       "    </tr>\n",
       "    <tr>\n",
       "      <th>2015-03</th>\n",
       "      <td>0.461559</td>\n",
       "    </tr>\n",
       "    <tr>\n",
       "      <th>2015-04</th>\n",
       "      <td>0.540977</td>\n",
       "    </tr>\n",
       "    <tr>\n",
       "      <th>2015-05</th>\n",
       "      <td>0.545885</td>\n",
       "    </tr>\n",
       "    <tr>\n",
       "      <th>2015-06</th>\n",
       "      <td>0.463152</td>\n",
       "    </tr>\n",
       "    <tr>\n",
       "      <th>2015-07</th>\n",
       "      <td>0.555911</td>\n",
       "    </tr>\n",
       "    <tr>\n",
       "      <th>2015-08</th>\n",
       "      <td>0.449784</td>\n",
       "    </tr>\n",
       "    <tr>\n",
       "      <th>2015-09</th>\n",
       "      <td>0.567485</td>\n",
       "    </tr>\n",
       "    <tr>\n",
       "      <th>2015-10</th>\n",
       "      <td>0.547652</td>\n",
       "    </tr>\n",
       "    <tr>\n",
       "      <th>2015-11</th>\n",
       "      <td>0.442857</td>\n",
       "    </tr>\n",
       "    <tr>\n",
       "      <th>2015-12</th>\n",
       "      <td>0.485548</td>\n",
       "    </tr>\n",
       "  </tbody>\n",
       "</table>\n",
       "</div>"
      ],
      "text/plain": [
       "         Rand_num\n",
       "Month            \n",
       "2015-01  0.589819\n",
       "2015-02  0.596067\n",
       "2015-03  0.461559\n",
       "2015-04  0.540977\n",
       "2015-05  0.545885\n",
       "2015-06  0.463152\n",
       "2015-07  0.555911\n",
       "2015-08  0.449784\n",
       "2015-09  0.567485\n",
       "2015-10  0.547652\n",
       "2015-11  0.442857\n",
       "2015-12  0.485548"
      ]
     },
     "execution_count": 58,
     "metadata": {},
     "output_type": "execute_result"
    }
   ],
   "source": [
    "#Month wise mean.\n",
    "df.pivot_table(values='Rand_num',index='Month',aggfunc='mean')"
   ]
  },
  {
   "cell_type": "code",
   "execution_count": 6,
   "metadata": {},
   "outputs": [
    {
     "data": {
      "text/html": [
       "<div>\n",
       "<style scoped>\n",
       "    .dataframe tbody tr th:only-of-type {\n",
       "        vertical-align: middle;\n",
       "    }\n",
       "\n",
       "    .dataframe tbody tr th {\n",
       "        vertical-align: top;\n",
       "    }\n",
       "\n",
       "    .dataframe thead th {\n",
       "        text-align: right;\n",
       "    }\n",
       "</style>\n",
       "<table border=\"1\" class=\"dataframe\">\n",
       "  <thead>\n",
       "    <tr style=\"text-align: right;\">\n",
       "      <th></th>\n",
       "    </tr>\n",
       "  </thead>\n",
       "  <tbody>\n",
       "    <tr>\n",
       "      <th>2015-01-01</th>\n",
       "    </tr>\n",
       "    <tr>\n",
       "      <th>2015-01-02</th>\n",
       "    </tr>\n",
       "    <tr>\n",
       "      <th>2015-01-03</th>\n",
       "    </tr>\n",
       "    <tr>\n",
       "      <th>2015-01-04</th>\n",
       "    </tr>\n",
       "    <tr>\n",
       "      <th>2015-01-05</th>\n",
       "    </tr>\n",
       "  </tbody>\n",
       "</table>\n",
       "</div>"
      ],
      "text/plain": [
       "Empty DataFrame\n",
       "Columns: []\n",
       "Index: [2015-01-01 00:00:00, 2015-01-02 00:00:00, 2015-01-03 00:00:00, 2015-01-04 00:00:00, 2015-01-05 00:00:00]"
      ]
     },
     "execution_count": 6,
     "metadata": {},
     "output_type": "execute_result"
    }
   ],
   "source": [
    "range = pd.date_range('2015-01-01', '2015-12-31', freq='1D')\n",
    "df_test = pd.DataFrame(index = range)\n",
    "df_test.head()"
   ]
  },
  {
   "cell_type": "code",
   "execution_count": 7,
   "metadata": {},
   "outputs": [],
   "source": [
    "rand_num = np.random.rand(365,1)"
   ]
  },
  {
   "cell_type": "code",
   "execution_count": 8,
   "metadata": {},
   "outputs": [],
   "source": [
    "df_test['Rand_num'] = rand_num"
   ]
  },
  {
   "cell_type": "code",
   "execution_count": 11,
   "metadata": {},
   "outputs": [],
   "source": [
    "df_test.index.names=['Date']\n"
   ]
  },
  {
   "cell_type": "code",
   "execution_count": 12,
   "metadata": {},
   "outputs": [
    {
     "data": {
      "text/html": [
       "<div>\n",
       "<style scoped>\n",
       "    .dataframe tbody tr th:only-of-type {\n",
       "        vertical-align: middle;\n",
       "    }\n",
       "\n",
       "    .dataframe tbody tr th {\n",
       "        vertical-align: top;\n",
       "    }\n",
       "\n",
       "    .dataframe thead th {\n",
       "        text-align: right;\n",
       "    }\n",
       "</style>\n",
       "<table border=\"1\" class=\"dataframe\">\n",
       "  <thead>\n",
       "    <tr style=\"text-align: right;\">\n",
       "      <th></th>\n",
       "      <th>Rand_num</th>\n",
       "    </tr>\n",
       "    <tr>\n",
       "      <th>Date</th>\n",
       "      <th></th>\n",
       "    </tr>\n",
       "  </thead>\n",
       "  <tbody>\n",
       "    <tr>\n",
       "      <th>2015-01-01</th>\n",
       "      <td>0.319116</td>\n",
       "    </tr>\n",
       "    <tr>\n",
       "      <th>2015-01-02</th>\n",
       "      <td>0.437350</td>\n",
       "    </tr>\n",
       "    <tr>\n",
       "      <th>2015-01-03</th>\n",
       "      <td>0.140859</td>\n",
       "    </tr>\n",
       "    <tr>\n",
       "      <th>2015-01-04</th>\n",
       "      <td>0.172262</td>\n",
       "    </tr>\n",
       "    <tr>\n",
       "      <th>2015-01-05</th>\n",
       "      <td>0.477773</td>\n",
       "    </tr>\n",
       "  </tbody>\n",
       "</table>\n",
       "</div>"
      ],
      "text/plain": [
       "            Rand_num\n",
       "Date                \n",
       "2015-01-01  0.319116\n",
       "2015-01-02  0.437350\n",
       "2015-01-03  0.140859\n",
       "2015-01-04  0.172262\n",
       "2015-01-05  0.477773"
      ]
     },
     "execution_count": 12,
     "metadata": {},
     "output_type": "execute_result"
    }
   ],
   "source": [
    "df_test.head()"
   ]
  },
  {
   "cell_type": "code",
   "execution_count": 78,
   "metadata": {},
   "outputs": [
    {
     "data": {
      "text/plain": [
       "2015-01-31    0.589819\n",
       "2015-02-28    0.596067\n",
       "2015-03-31    0.461559\n",
       "2015-04-30    0.540977\n",
       "2015-05-31    0.545885\n",
       "2015-06-30    0.463152\n",
       "2015-07-31    0.555911\n",
       "2015-08-31    0.449784\n",
       "2015-09-30    0.567485\n",
       "2015-10-31    0.547652\n",
       "2015-11-30    0.442857\n",
       "2015-12-31    0.485548\n",
       "Freq: M, Name: Rand_num, dtype: float64"
      ]
     },
     "execution_count": 78,
     "metadata": {},
     "output_type": "execute_result"
    }
   ],
   "source": [
    "#print(df_test.Rand_num.resample('M'))\n",
    "#population = crime['Population'].resample('10AS').max()\n",
    "\n",
    "df_test['Rand_num'].resample('M').mean()"
   ]
  },
  {
   "cell_type": "code",
   "execution_count": 81,
   "metadata": {},
   "outputs": [
    {
     "data": {
      "text/plain": [
       "2015-12-31    0.999924\n",
       "Freq: A-DEC, Name: Rand_num, dtype: float64"
      ]
     },
     "execution_count": 81,
     "metadata": {},
     "output_type": "execute_result"
    }
   ],
   "source": [
    "df_test['Rand_num'].resample('D').max()"
   ]
  },
  {
   "cell_type": "code",
   "execution_count": 15,
   "metadata": {},
   "outputs": [
    {
     "data": {
      "text/plain": [
       "Date\n",
       "2015-01-31    0.952302\n",
       "2015-05-31    0.999545\n",
       "2015-09-30    0.996527\n",
       "2016-01-31    0.991957\n",
       "Name: Rand_num, dtype: float64"
      ]
     },
     "execution_count": 15,
     "metadata": {},
     "output_type": "execute_result"
    }
   ],
   "source": [
    "#df_test.pivot_table(values='Rand_num',index['Day']='Wednesday',aggfunc='sum')\n",
    "df_test['Rand_num'].resample('4M').max()\n",
    "#df_test[df_test['Date'] == 'Wednesday'].groupby('Rand_num').sum()"
   ]
  },
  {
   "cell_type": "code",
   "execution_count": null,
   "metadata": {},
   "outputs": [],
   "source": []
  }
 ],
 "metadata": {
  "kernelspec": {
   "display_name": "Python 3",
   "language": "python",
   "name": "python3"
  },
  "language_info": {
   "codemirror_mode": {
    "name": "ipython",
    "version": 3
   },
   "file_extension": ".py",
   "mimetype": "text/x-python",
   "name": "python",
   "nbconvert_exporter": "python",
   "pygments_lexer": "ipython3",
   "version": "3.6.4"
  }
 },
 "nbformat": 4,
 "nbformat_minor": 2
}
